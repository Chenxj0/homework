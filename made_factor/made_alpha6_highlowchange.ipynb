{
 "cells": [
  {
   "cell_type": "code",
   "execution_count": null,
   "metadata": {
    "collapsed": true
   },
   "outputs": [],
   "source": [
    "import jaqs_fxdayu\n",
    "jaqs_fxdayu.patch_all()\n",
    "from jaqs.data import DataView\n",
    "from jaqs.data import RemoteDataService\n",
    "from jaqs_fxdayu.data.dataservice import LocalDataService\n",
    "import os\n",
    "import numpy as np\n",
    "import pandas as pd\n",
    "import warnings\n",
    "\n",
    "warnings.filterwarnings(\"ignore\")\n",
    "\n",
    "dataview_folder = 'D:\\data'\n",
    "dv = DataView()\n",
    "ds = LocalDataService(fp=dataview_folder)\n",
    "\n",
    "\n",
    "factor_list = ['volume']\n",
    "check_factor = ','.join(factor_list)\n",
    "\n",
    "dv_props = {'start_date': start, 'end_date': end, 'symbol':','.join(stock_symbol),\n",
    "         'fields': check_factor,\n",
    "         'freq': 1,\n",
    "         \"prepare_fields\": True}\n",
    "\n",
    "\n",
    "dv.init_from_config(dv_props, data_api=ds)\n",
    "dv.prepare_data()\n",
    "\n",
    "dv.add_formula('highlowchange',\n",
    "               \"((high-Ewma(close,1))-(low-Ewma(close,1)))/close\"\n",
    "               , is_quarterly=False, add_data=True)\n"
   ]
  }
 ],
 "metadata": {
  "kernelspec": {
   "display_name": "Python 2",
   "language": "python",
   "name": "python2"
  },
  "language_info": {
   "codemirror_mode": {
    "name": "ipython",
    "version": 2.0
   },
   "file_extension": ".py",
   "mimetype": "text/x-python",
   "name": "python",
   "nbconvert_exporter": "python",
   "pygments_lexer": "ipython2",
   "version": "2.7.6"
  }
 },
 "nbformat": 4,
 "nbformat_minor": 0
}